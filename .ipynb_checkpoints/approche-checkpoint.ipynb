{
 "cells": [
  {
   "cell_type": "markdown",
   "metadata": {},
   "source": [
    "# Table of content\n",
    "1. [Define methods](#Define-methods)\n",
    "1. [Data Prepocessing](#Data-Prepocessing)\n",
    "   1. [Data initialization](#Data-initialization)\n",
    "   1. [First exploration](#First-exploration)\n",
    "   1. [Feature engineering methods](#Feature-engineering-methods)\n",
    "   1. [Data size & Features model selection](#Data-size-&-Features-model-selection)\n",
    "1. [Data exploration](#Data-exploration)\n",
    "   1. [Algorithm](#Algorithm)\n",
    "1. [Miscellaneous](#Miscellaneous)\n",
    "   "
   ]
  },
  {
   "cell_type": "code",
   "execution_count": 1,
   "metadata": {},
   "outputs": [],
   "source": [
    "from math import sqrt, log\n",
    "import datetime\n",
    "import numpy as np\n",
    "from numpy.linalg import inv\n",
    "from scipy import stats\n",
    "from scipy.optimize import minimize\n",
    "import matplotlib.pyplot as plt\n",
    "import seaborn as sns\n",
    "from functools import partial\n",
    "from random import shuffle\n",
    "import pandas as pd\n",
    "import mglearn\n",
    "import xgboost\n",
    "%matplotlib inline\n",
    "sns.set()\n",
    "from sklearn import decomposition\n",
    "from sklearn.model_selection import train_test_split, GridSearchCV, cross_val_score\n",
    "from sklearn.linear_model import ElasticNet, Lasso, Ridge, LinearRegression\n",
    "from sklearn.metrics import mean_absolute_error, make_scorer\n",
    "from sklearn.svm import SVR\n",
    "from sklearn.preprocessing import MinMaxScaler, StandardScaler\n",
    "from sklearn.pipeline import Pipeline\n",
    "from sklearn.neighbors import KNeighborsRegressor, KNeighborsClassifier\n",
    "from sklearn.ensemble import RandomForestRegressor, GradientBoostingRegressor, AdaBoostRegressor\n",
    "from sklearn.cluster import AgglomerativeClustering, DBSCAN"
   ]
  },
  {
   "cell_type": "markdown",
   "metadata": {},
   "source": [
    "# Define methods"
   ]
  },
  {
   "cell_type": "code",
   "execution_count": 2,
   "metadata": {},
   "outputs": [],
   "source": [
    "l = list\n",
    "p = print\n",
    "pt = lambda x: print(type(x))\n",
    "rl = lambda x: range(len(x))\n",
    "a = np.array\n",
    "best_weight = [0.025212  ,  0.01268883,  0.02279309,  0.0166642 ,  0.02068468,\\\n",
    "               0.01387662,  0.00096794,  0.01963766,  0.01831665,  0.01984297,\\\n",
    "               0.02039621,  0.02253402, -0.01003976,  0.01767089,  0.01893632,\\\n",
    "               0.01475718,  0.02210797,  0.01855322,  0.01960163,  0.01261731,\\\n",
    "               0.02288718,  0.02191818,  0.02140918,  0.02156594,  0.02245936,\\\n",
    "               0.02502659,  0.02793214,  0.02647139,  0.02745684,  0.02011473,\\\n",
    "               0.0264149 ,  0.02993924,  0.03572745,  0.03245962, -0.00197627,\\\n",
    "               0.04564757,  0.03690009,  0.04765921,  0.05152177,  0.0674441]\n",
    "\n",
    "def score_function(y_true, y_pred):\n",
    "    return np.mean(np.abs((y_true - y_pred) / y_true)) * 100\n",
    "# wraps scoring functions for use in GridSearchCV and cross_val_score.\n",
    "mape = make_scorer(score_function, greater_is_better=False)\n",
    "\n",
    "\n",
    "def print_results(estimator, preprocess_func=lambda x:x, log = True):\n",
    "    score_train = score_function(y_train, estimator.predict(preprocess_func(X_train)))\n",
    "    score_test = score_function(y_test, estimator.predict(preprocess_func(X_test)))\n",
    "    print(\"best_params\",estimator.best_params_)\n",
    "    print(\"train: \", score_train)\n",
    "    print(\"test: \", score_test)\n",
    "    if log and len(current_train) >= 10000:\n",
    "        features = \"\"\n",
    "        cols = set(X_train.columns)\n",
    "        if cols != cols - set([\"product_id\"]):\n",
    "            cols -=  set([\"product_id\"])\n",
    "            features += \"id:\"\n",
    "        if cols != cols - set(vol_names):\n",
    "            cols -= set(vol_names)\n",
    "            features += \"vol:\"\n",
    "        if cols != cols - set(return_names):\n",
    "            cols -= set(return_names)\n",
    "            features += \"ret:\"\n",
    "        for col in cols:\n",
    "            features += col + \":\"\n",
    "        features if features else feature_method.__name__\n",
    "        with open('results.log', 'a') as the_file:\n",
    "            the_file.write(\"| \" +datetime.datetime.today().strftime(\"%d/%m/%y - %H:%M\"))\n",
    "            the_file.write(\" | \" + features)\n",
    "            the_file.write(\" | \" + \"_\".join([str(est[1]).split(\"(\")[0] for est in estimator.estimator.steps]))            \n",
    "            the_file.write(\" | \" + str(len(current_train)) + \":\" + str(1 - test_size))\n",
    "            the_file.write(\" | \" + str(score_train))\n",
    "            the_file.write(\" | \" + str(score_test))\n",
    "            the_file.write(\"|\\n\")\n",
    "\n",
    "import multiprocessing as mp\n",
    "def _apply_df(args):\n",
    "    df, func, num, kwargs = args\n",
    "    return num, df.apply(func, **kwargs)\n",
    "\n",
    "def multiprocessed_apply(df,func,**kwargs):\n",
    "    workers = 4\n",
    "    pool = mp.Pool(processes=workers)\n",
    "    chunks = [(d, func, i, kwargs) for i,d in enumerate(np.array_split(df, workers))]\n",
    "    result = pool.map(_apply_df, chunks)\n",
    "    pool.close()\n",
    "    result=sorted(result,key=lambda x:x[0])\n",
    "    return pd.concat([i[1] for i in result])\n",
    "\n",
    "def correlation_matrix(df):\n",
    "    corr = df.corr()\n",
    "    # Generate a mask for the upper triangle\n",
    "    mask = np.zeros_like(corr, dtype=np.bool)\n",
    "    mask[np.triu_indices_from(mask)] = True\n",
    "\n",
    "    # Set up the matplotlib figure\n",
    "    f, ax = plt.subplots(figsize=(11, 9))\n",
    "\n",
    "    # Generate a custom diverging colormap\n",
    "    cmap = sns.diverging_palette(220, 10, as_cmap=True)\n",
    "\n",
    "    sns.heatmap(corr, mask=mask, cmap=cmap, vmax=.3, center=0,\n",
    "                square=True, linewidths=.5, cbar_kws={\"shrink\": .5})\n",
    "\n",
    "def new_feature(name, func, data_set):\n",
    "    if len(data_set) == len(test):\n",
    "        return multiprocessed_apply(data_set, func, axis=1)\n",
    "    if name in train_all_feature.columns:\n",
    "        return train_all_feature.loc[data_set.index, name]\n",
    "    else:\n",
    "        series = multiprocessed_apply(data_set, func, axis=1)\n",
    "        if not work_with_subset:\n",
    "            train_all_feature[name] = series\n",
    "        return series\n",
    "\n",
    "feature_method = lambda x:x\n",
    "def df_to_csv(df, name):\n",
    "    pd.DataFrame({\"TARGET\":df}).to_csv('./output/' + name + '.csv', sep=';', index=True)\n",
    "def test_to_csv(estimator, preprocess_func=feature_method, name=\"out\"):\n",
    "    a = pd.DataFrame({ 'ID':test.index, 'TARGET':estimator.predict(preprocess_func(test))})\n",
    "    a.to_csv('./output/' + name + '.csv', sep=';', index=False)\n",
    "\n"
   ]
  },
  {
   "cell_type": "markdown",
   "metadata": {},
   "source": [
    "# Data Prepocessing \n",
    "\n",
    "### Data initialization"
   ]
  },
  {
   "cell_type": "code",
   "execution_count": 66,
   "metadata": {},
   "outputs": [
    {
     "name": "stdout",
     "output_type": "stream",
     "text": [
      "Empty DataFrame\n",
      "Columns: [Train, Test]\n",
      "Index: []\n",
      "636313 636313 635397\n",
      "<class 'pandas.core.frame.DataFrame'>\n",
      "Int64Index: 636313 entries, 1 to 636313\n",
      "Columns: 110 entries, date to return 13:55:00\n",
      "dtypes: float64(108), int64(2)\n",
      "memory usage: 538.9 MB\n"
     ]
    }
   ],
   "source": [
    "# training set: X\n",
    "train = pd.read_csv('data/training_input.csv', sep=\";\")\n",
    "train.index = train['ID']\n",
    "train = train.drop('ID',1)\n",
    "train_all_feature = train\n",
    "# results of the training set: Y\n",
    "result = pd.read_csv('data/challenge_output_data_training_file_volatility_prediction_in_financial_markets.csv', sep=\";\")\n",
    "result.index = result['ID']\n",
    "result = result['TARGET']\n",
    "# score data set \n",
    "test = pd.read_csv('data/testing_input.csv', sep=\";\")\n",
    "test.index = test['ID']\n",
    "test = test.drop('ID',1)\n",
    "\n",
    "vol_names = train.columns[2:56]\n",
    "return_names = train.columns[56:]\n",
    "\n",
    "def fill_nan(df):\n",
    "    medians_vol = df[vol_names].T.median()\n",
    "    medians_return = df[return_names].T.median()\n",
    "    df[vol_names] = df[vol_names].fillna({name:medians_vol for name in vol_names})\n",
    "    df[return_names] = df[return_names].fillna({name:medians_return for name in return_names})\n",
    "fill_nan(train)\n",
    "fill_nan(test)\n",
    "train = train.where((pd.notnull(train)), 0)\n",
    "test = test.where((pd.notnull(test)), 0)\n",
    "\n",
    "# check if there are NaN cells\n",
    "NAs = pd.concat([train.isnull().sum(), test.isnull().sum()], axis=1, keys=['Train', 'Test'])\n",
    "p(NAs[NAs.sum(axis=1) > 0])\n",
    "\n",
    "print(len(train), len(result), len(test))\n",
    "train.info()"
   ]
  },
  {
   "cell_type": "code",
   "execution_count": 4,
   "metadata": {},
   "outputs": [
    {
     "data": {
      "text/html": [
       "<div>\n",
       "<style>\n",
       "    .dataframe thead tr:only-child th {\n",
       "        text-align: right;\n",
       "    }\n",
       "\n",
       "    .dataframe thead th {\n",
       "        text-align: left;\n",
       "    }\n",
       "\n",
       "    .dataframe tbody tr th {\n",
       "        vertical-align: top;\n",
       "    }\n",
       "</style>\n",
       "<table border=\"1\" class=\"dataframe\">\n",
       "  <thead>\n",
       "    <tr style=\"text-align: right;\">\n",
       "      <th></th>\n",
       "      <th>date</th>\n",
       "      <th>product_id</th>\n",
       "      <th>volatility 09:30:00</th>\n",
       "      <th>volatility 09:35:00</th>\n",
       "      <th>volatility 09:40:00</th>\n",
       "      <th>volatility 09:45:00</th>\n",
       "      <th>volatility 09:50:00</th>\n",
       "      <th>volatility 09:55:00</th>\n",
       "      <th>volatility 10:00:00</th>\n",
       "      <th>volatility 10:05:00</th>\n",
       "      <th>...</th>\n",
       "      <th>return 13:10:00</th>\n",
       "      <th>return 13:15:00</th>\n",
       "      <th>return 13:20:00</th>\n",
       "      <th>return 13:25:00</th>\n",
       "      <th>return 13:30:00</th>\n",
       "      <th>return 13:35:00</th>\n",
       "      <th>return 13:40:00</th>\n",
       "      <th>return 13:45:00</th>\n",
       "      <th>return 13:50:00</th>\n",
       "      <th>return 13:55:00</th>\n",
       "    </tr>\n",
       "  </thead>\n",
       "  <tbody>\n",
       "    <tr>\n",
       "      <th>count</th>\n",
       "      <td>636313.000000</td>\n",
       "      <td>636313.000000</td>\n",
       "      <td>636313.000000</td>\n",
       "      <td>636313.000000</td>\n",
       "      <td>636313.000000</td>\n",
       "      <td>636313.000000</td>\n",
       "      <td>636313.000000</td>\n",
       "      <td>636313.000000</td>\n",
       "      <td>636313.000000</td>\n",
       "      <td>636313.000000</td>\n",
       "      <td>...</td>\n",
       "      <td>636313.000000</td>\n",
       "      <td>636313.000000</td>\n",
       "      <td>636313.000000</td>\n",
       "      <td>636313.000000</td>\n",
       "      <td>636313.000000</td>\n",
       "      <td>636313.000000</td>\n",
       "      <td>636313.000000</td>\n",
       "      <td>636313.000000</td>\n",
       "      <td>636313.000000</td>\n",
       "      <td>636313.000000</td>\n",
       "    </tr>\n",
       "    <tr>\n",
       "      <th>mean</th>\n",
       "      <td>1059.128210</td>\n",
       "      <td>160.248984</td>\n",
       "      <td>0.566130</td>\n",
       "      <td>0.472403</td>\n",
       "      <td>0.405321</td>\n",
       "      <td>0.360220</td>\n",
       "      <td>0.334165</td>\n",
       "      <td>0.306628</td>\n",
       "      <td>0.336073</td>\n",
       "      <td>0.292918</td>\n",
       "      <td>...</td>\n",
       "      <td>-0.004824</td>\n",
       "      <td>0.022003</td>\n",
       "      <td>0.002111</td>\n",
       "      <td>0.001244</td>\n",
       "      <td>-0.007823</td>\n",
       "      <td>-0.012777</td>\n",
       "      <td>-0.002660</td>\n",
       "      <td>0.001954</td>\n",
       "      <td>-0.008490</td>\n",
       "      <td>-0.008299</td>\n",
       "    </tr>\n",
       "    <tr>\n",
       "      <th>std</th>\n",
       "      <td>610.501769</td>\n",
       "      <td>92.014489</td>\n",
       "      <td>0.635065</td>\n",
       "      <td>0.494674</td>\n",
       "      <td>0.436578</td>\n",
       "      <td>0.377392</td>\n",
       "      <td>0.356376</td>\n",
       "      <td>0.323326</td>\n",
       "      <td>0.343210</td>\n",
       "      <td>0.314783</td>\n",
       "      <td>...</td>\n",
       "      <td>0.901810</td>\n",
       "      <td>0.903271</td>\n",
       "      <td>0.903783</td>\n",
       "      <td>0.903393</td>\n",
       "      <td>0.907617</td>\n",
       "      <td>0.906511</td>\n",
       "      <td>0.906523</td>\n",
       "      <td>0.907482</td>\n",
       "      <td>0.907369</td>\n",
       "      <td>0.908926</td>\n",
       "    </tr>\n",
       "    <tr>\n",
       "      <th>min</th>\n",
       "      <td>1.000000</td>\n",
       "      <td>1.000000</td>\n",
       "      <td>0.000000</td>\n",
       "      <td>0.000000</td>\n",
       "      <td>0.000000</td>\n",
       "      <td>0.000000</td>\n",
       "      <td>0.000000</td>\n",
       "      <td>0.000000</td>\n",
       "      <td>0.000000</td>\n",
       "      <td>0.000000</td>\n",
       "      <td>...</td>\n",
       "      <td>-1.000000</td>\n",
       "      <td>-1.000000</td>\n",
       "      <td>-1.000000</td>\n",
       "      <td>-1.000000</td>\n",
       "      <td>-1.000000</td>\n",
       "      <td>-1.000000</td>\n",
       "      <td>-1.000000</td>\n",
       "      <td>-1.000000</td>\n",
       "      <td>-1.000000</td>\n",
       "      <td>-1.000000</td>\n",
       "    </tr>\n",
       "    <tr>\n",
       "      <th>25%</th>\n",
       "      <td>531.000000</td>\n",
       "      <td>81.000000</td>\n",
       "      <td>0.210037</td>\n",
       "      <td>0.188604</td>\n",
       "      <td>0.161670</td>\n",
       "      <td>0.142201</td>\n",
       "      <td>0.129127</td>\n",
       "      <td>0.118961</td>\n",
       "      <td>0.131550</td>\n",
       "      <td>0.113127</td>\n",
       "      <td>...</td>\n",
       "      <td>-1.000000</td>\n",
       "      <td>-1.000000</td>\n",
       "      <td>-1.000000</td>\n",
       "      <td>-1.000000</td>\n",
       "      <td>-1.000000</td>\n",
       "      <td>-1.000000</td>\n",
       "      <td>-1.000000</td>\n",
       "      <td>-1.000000</td>\n",
       "      <td>-1.000000</td>\n",
       "      <td>-1.000000</td>\n",
       "    </tr>\n",
       "    <tr>\n",
       "      <th>50%</th>\n",
       "      <td>1058.000000</td>\n",
       "      <td>161.000000</td>\n",
       "      <td>0.405610</td>\n",
       "      <td>0.341686</td>\n",
       "      <td>0.292415</td>\n",
       "      <td>0.258592</td>\n",
       "      <td>0.236936</td>\n",
       "      <td>0.219062</td>\n",
       "      <td>0.239057</td>\n",
       "      <td>0.207835</td>\n",
       "      <td>...</td>\n",
       "      <td>0.000000</td>\n",
       "      <td>0.000000</td>\n",
       "      <td>0.000000</td>\n",
       "      <td>0.000000</td>\n",
       "      <td>0.000000</td>\n",
       "      <td>0.000000</td>\n",
       "      <td>0.000000</td>\n",
       "      <td>0.000000</td>\n",
       "      <td>0.000000</td>\n",
       "      <td>0.000000</td>\n",
       "    </tr>\n",
       "    <tr>\n",
       "      <th>75%</th>\n",
       "      <td>1589.000000</td>\n",
       "      <td>241.000000</td>\n",
       "      <td>0.717135</td>\n",
       "      <td>0.594259</td>\n",
       "      <td>0.508577</td>\n",
       "      <td>0.452680</td>\n",
       "      <td>0.418686</td>\n",
       "      <td>0.386758</td>\n",
       "      <td>0.422289</td>\n",
       "      <td>0.368523</td>\n",
       "      <td>...</td>\n",
       "      <td>1.000000</td>\n",
       "      <td>1.000000</td>\n",
       "      <td>1.000000</td>\n",
       "      <td>1.000000</td>\n",
       "      <td>1.000000</td>\n",
       "      <td>1.000000</td>\n",
       "      <td>1.000000</td>\n",
       "      <td>1.000000</td>\n",
       "      <td>1.000000</td>\n",
       "      <td>1.000000</td>\n",
       "    </tr>\n",
       "    <tr>\n",
       "      <th>max</th>\n",
       "      <td>2117.000000</td>\n",
       "      <td>318.000000</td>\n",
       "      <td>46.463028</td>\n",
       "      <td>22.345580</td>\n",
       "      <td>27.829934</td>\n",
       "      <td>18.600202</td>\n",
       "      <td>16.226835</td>\n",
       "      <td>20.255632</td>\n",
       "      <td>11.413828</td>\n",
       "      <td>17.792948</td>\n",
       "      <td>...</td>\n",
       "      <td>1.000000</td>\n",
       "      <td>1.000000</td>\n",
       "      <td>1.000000</td>\n",
       "      <td>1.000000</td>\n",
       "      <td>1.000000</td>\n",
       "      <td>1.000000</td>\n",
       "      <td>1.000000</td>\n",
       "      <td>1.000000</td>\n",
       "      <td>1.000000</td>\n",
       "      <td>1.000000</td>\n",
       "    </tr>\n",
       "  </tbody>\n",
       "</table>\n",
       "<p>8 rows × 110 columns</p>\n",
       "</div>"
      ],
      "text/plain": [
       "                date     product_id  volatility 09:30:00  volatility 09:35:00  \\\n",
       "count  636313.000000  636313.000000        636313.000000        636313.000000   \n",
       "mean     1059.128210     160.248984             0.566130             0.472403   \n",
       "std       610.501769      92.014489             0.635065             0.494674   \n",
       "min         1.000000       1.000000             0.000000             0.000000   \n",
       "25%       531.000000      81.000000             0.210037             0.188604   \n",
       "50%      1058.000000     161.000000             0.405610             0.341686   \n",
       "75%      1589.000000     241.000000             0.717135             0.594259   \n",
       "max      2117.000000     318.000000            46.463028            22.345580   \n",
       "\n",
       "       volatility 09:40:00  volatility 09:45:00  volatility 09:50:00  \\\n",
       "count        636313.000000        636313.000000        636313.000000   \n",
       "mean              0.405321             0.360220             0.334165   \n",
       "std               0.436578             0.377392             0.356376   \n",
       "min               0.000000             0.000000             0.000000   \n",
       "25%               0.161670             0.142201             0.129127   \n",
       "50%               0.292415             0.258592             0.236936   \n",
       "75%               0.508577             0.452680             0.418686   \n",
       "max              27.829934            18.600202            16.226835   \n",
       "\n",
       "       volatility 09:55:00  volatility 10:00:00  volatility 10:05:00  \\\n",
       "count        636313.000000        636313.000000        636313.000000   \n",
       "mean              0.306628             0.336073             0.292918   \n",
       "std               0.323326             0.343210             0.314783   \n",
       "min               0.000000             0.000000             0.000000   \n",
       "25%               0.118961             0.131550             0.113127   \n",
       "50%               0.219062             0.239057             0.207835   \n",
       "75%               0.386758             0.422289             0.368523   \n",
       "max              20.255632            11.413828            17.792948   \n",
       "\n",
       "            ...         return 13:10:00  return 13:15:00  return 13:20:00  \\\n",
       "count       ...           636313.000000    636313.000000    636313.000000   \n",
       "mean        ...               -0.004824         0.022003         0.002111   \n",
       "std         ...                0.901810         0.903271         0.903783   \n",
       "min         ...               -1.000000        -1.000000        -1.000000   \n",
       "25%         ...               -1.000000        -1.000000        -1.000000   \n",
       "50%         ...                0.000000         0.000000         0.000000   \n",
       "75%         ...                1.000000         1.000000         1.000000   \n",
       "max         ...                1.000000         1.000000         1.000000   \n",
       "\n",
       "       return 13:25:00  return 13:30:00  return 13:35:00  return 13:40:00  \\\n",
       "count    636313.000000    636313.000000    636313.000000    636313.000000   \n",
       "mean          0.001244        -0.007823        -0.012777        -0.002660   \n",
       "std           0.903393         0.907617         0.906511         0.906523   \n",
       "min          -1.000000        -1.000000        -1.000000        -1.000000   \n",
       "25%          -1.000000        -1.000000        -1.000000        -1.000000   \n",
       "50%           0.000000         0.000000         0.000000         0.000000   \n",
       "75%           1.000000         1.000000         1.000000         1.000000   \n",
       "max           1.000000         1.000000         1.000000         1.000000   \n",
       "\n",
       "       return 13:45:00  return 13:50:00  return 13:55:00  \n",
       "count    636313.000000    636313.000000    636313.000000  \n",
       "mean          0.001954        -0.008490        -0.008299  \n",
       "std           0.907482         0.907369         0.908926  \n",
       "min          -1.000000        -1.000000        -1.000000  \n",
       "25%          -1.000000        -1.000000        -1.000000  \n",
       "50%           0.000000         0.000000         0.000000  \n",
       "75%           1.000000         1.000000         1.000000  \n",
       "max           1.000000         1.000000         1.000000  \n",
       "\n",
       "[8 rows x 110 columns]"
      ]
     },
     "execution_count": 4,
     "metadata": {},
     "output_type": "execute_result"
    }
   ],
   "source": [
    "train.describe()"
   ]
  },
  {
   "cell_type": "markdown",
   "metadata": {},
   "source": [
    "### First exploration"
   ]
  },
  {
   "cell_type": "code",
   "execution_count": null,
   "metadata": {
    "collapsed": true
   },
   "outputs": [
    {
     "data": {
      "image/png": "[encoded data removed]",
      "text/plain": [
       "<matplotlib.figure.Figure at 0x7f10dd2436d8>"
      ]
     },
     "metadata": {},
     "output_type": "display_data"
    },
    {
     "data": {
      "image/png": "[encoded data removed]",
      "text/plain": [
       "<matplotlib.figure.Figure at 0x7f10dd28bbe0>"
      ]
     },
     "metadata": {},
     "output_type": "display_data"
    },
    {
     "data": {
      "image/png": "[encoded data removed]",
      "text/plain": [
       "<matplotlib.figure.Figure at 0x7f10dd28bcc0>"
      ]
     },
     "metadata": {},
     "output_type": "display_data"
    },
    {
     "name": "stdout",
     "output_type": "stream",
     "text": [
      "26.626416159702444\n"
     ]
    },
    {
     "data": {
      "image/png": "[encoded data removed]",
      "text/plain": [
       "<matplotlib.figure.Figure at 0x7f10dd316c50>"
      ]
     },
     "metadata": {},
     "output_type": "display_data"
    },
    {
     "data": {
      "image/png": "[encoded data removed]",
      "text/plain": [
       "<matplotlib.figure.Figure at 0x7f10d8248128>"
      ]
     },
     "metadata": {},
     "output_type": "display_data"
    }
   ],
   "source": [
    "for i in range(54)[::15]:\n",
    "    train[vol_names[i]].hist(bins=2000, label=vol_names[i].split(\" \")[1])\n",
    "\n",
    "plt.xlim(0, 2.0)\n",
    "plt.ylim(0, 27000)\n",
    "plt.legend()\n",
    "plt.show()\n",
    "\n",
    "correlation_matrix(train)\n",
    "plt.show()\n",
    "\n",
    "X_train2, X_test2, y_train2, y_test2 = \\\n",
    "    train_test_split(train, result, test_size=0.30, random_state=42)\n",
    "lr = LinearRegression().fit(X_train2, y_train2)\n",
    "plt.plot(lr.coef_, 'v', label=\"LinearRegression\")\n",
    "plt.show()\n",
    "\n",
    "print(score_function(y_test2, lr.predict(X_test2)))\n",
    "\n",
    "temp_data_set = train\n",
    "temp_data_set['sum_vol'] = train[vol_names].mean(axis=1)\n",
    "date_vol = temp_data_set.groupby(['date'])['sum_vol'].mean()\n",
    "stock_vol = temp_data_set.groupby(['product_id'])['sum_vol'].mean()\n",
    "\n",
    "date_vol.plot()\n",
    "plt.show()\n",
    "stock_vol.plot()\n",
    "plt.show()"
   ]
  },
  {
   "cell_type": "markdown",
   "metadata": {},
   "source": [
    "### Feature engineering methods"
   ]
  },
  {
   "cell_type": "code",
   "execution_count": 67,
   "metadata": {},
   "outputs": [],
   "source": [
    "def vanilla(data_set):\n",
    "    return data_set\n",
    "\n",
    "def best_wa(data_set):\n",
    "    new_data_set = data_set.iloc[:,:2]\n",
    "    new_data_set['sum_return'] = data_set[return_names].sum(axis=1)\n",
    "    new_data_set['bwa'] = np.average(data_set[vol_names[-40:]], weights=best_weight, axis=1)\n",
    "    return new_data_set\n",
    "\n",
    "# 'date', 'product_id', 'sum_return', 'bwa', 'cum_vol'\n",
    "def day_cum_vol(data_set):\n",
    "    new_data_set = data_set.iloc[:,:2]\n",
    "    temp_data_set = data_set\n",
    "    temp_data_set['sum_vol'] = data_set[vol_names].sum(axis=1)\n",
    "    new_data_set['sum_return'] = data_set[return_names].sum(axis=1)\n",
    "    new_data_set['bwa'] = np.average(data_set[vol_names[-40:]], weights=best_weight, axis=1)\n",
    "    date_vol = temp_data_set.groupby(['date'])['sum_vol'].sum(axis=0)\n",
    "    new_data_set = pd.merge(new_data_set, pd.DataFrame({\"date\": date_vol.index,\"cum_vol\": date_vol}), how=\"left\",\\\n",
    "                            on=\"date\")\n",
    "    return new_data_set\n",
    "\n",
    "# 'sum_return', 'bwa', 'day_vol', 'stock_vol'\n",
    "def stock_day_cum_vol(data_set, result_set):\n",
    "    new_data_set = data_set.iloc[:,:2]\n",
    "    new_data_set['sum_return'] = data_set[return_names].sum(axis=1)\n",
    "    new_data_set['bwa'] = np.average(data_set[vol_names[-40:]], weights=best_weight, axis=1)\n",
    "    # ------ group by ------\n",
    "    temp_data_set = data_set\n",
    "    temp_data_set['sum_vol'] = data_set[vol_names].sum(axis=1)\n",
    "    date_vol = temp_data_set.groupby(['date'])['sum_vol'].median()\n",
    "    stock_vol = temp_data_set.groupby(['product_id'])['sum_vol'].median()\n",
    "    new_data_set = pd.merge(new_data_set, pd.DataFrame({\"date\": date_vol.index,\"day_vol\": date_vol}), how=\"left\",\\\n",
    "                            on=\"date\")\n",
    "    new_data_set = pd.merge(new_data_set, pd.DataFrame({\"product_id\": stock_vol.index,\"stock_vol\": stock_vol}),\\\n",
    "                            how=\"left\", on=\"product_id\")\n",
    "    return new_data_set\n",
    "\n",
    "# 'sum_return', 'bwa', 'day_vol', 'stock_vol' , 'rl' \n",
    "def cumStock_cumDay_cumReturn_rl(data_set, result_set):\n",
    "    new_data_set = data_set.iloc[:,:2]\n",
    "    new_data_set['sum_return'] = data_set[return_names].sum(axis=1)\n",
    "    new_data_set['bwa'] = np.average(data_set[vol_names[-40:]], weights=best_weight, axis=1)\n",
    "    # ------ group by ------\n",
    "    temp_data_set = data_set\n",
    "    temp_data_set['sum_vol'] = data_set[vol_names].sum(axis=1)\n",
    "    date_vol = temp_data_set.groupby(['date'])['sum_vol'].median()\n",
    "    stock_vol = temp_data_set.groupby(['product_id'])['sum_vol'].median()\n",
    "    new_data_set = pd.merge(new_data_set, pd.DataFrame({\"date\": date_vol.index,\"day_vol\": date_vol}), how=\"left\",\\\n",
    "                            on=\"date\")\n",
    "    new_data_set = pd.merge(new_data_set, pd.DataFrame({\"product_id\": stock_vol.index,\"stock_vol\": stock_vol}),\\\n",
    "                            how=\"left\", on=\"product_id\")\n",
    "    # ------ rl ------\n",
    "    rl_set = data_set.iloc[:,:56]\n",
    "    rl_set['min'] = data_set[vol_names].min(axis=1)\n",
    "    rl_set['max'] = data_set[vol_names].max(axis=1)\n",
    "    rl_set['median'] = data_set[vol_names].median(axis=1)\n",
    "    rl_set['mean'] = data_set[vol_names].mean(axis=1)\n",
    "    rl_set['std'] = data_set[vol_names].std(axis=1)\n",
    "    rl_set = pd.merge(rl_set, pd.DataFrame({\"date\": date_vol.index,\"day_vol\": date_vol}), how=\"left\",\\\n",
    "                                on=\"date\")\n",
    "    rl_set = pd.merge(rl_set, pd.DataFrame({\"product_id\": stock_vol.index,\"stock_vol\": stock_vol}),\\\n",
    "                            how=\"left\", on=\"product_id\")\n",
    "    pipe = Pipeline([(\"scaler\", StandardScaler()),(\"reg\", LinearRegression())])\n",
    "    lr = GridSearchCV(pipe, param_grid={}, cv=4, scoring=mape, n_jobs=-1)\n",
    "    lr.fit(rl_set, result_set)\n",
    "    new_data_set[\"rl\"] = lr.predict(rl_set)\n",
    "    return new_data_set"
   ]
  },
  {
   "cell_type": "markdown",
   "metadata": {},
   "source": [
    "### Data size & Features model selection\n",
    "\n",
    "# ---------------------------------------"
   ]
  },
  {
   "cell_type": "code",
   "execution_count": 92,
   "metadata": {},
   "outputs": [
    {
     "name": "stderr",
     "output_type": "stream",
     "text": [
      "/home/huguesvincent/.local/lib/python3.5/site-packages/ipykernel_launcher.py:95: SettingWithCopyWarning: \n",
      "A value is trying to be set on a copy of a slice from a DataFrame.\n",
      "Try using .loc[row_indexer,col_indexer] = value instead\n",
      "\n",
      "See the caveats in the documentation: http://pandas.pydata.org/pandas-docs/stable/indexing.html#indexing-view-versus-copy\n",
      "/home/huguesvincent/.local/lib/python3.5/site-packages/ipykernel_launcher.py:96: SettingWithCopyWarning: \n",
      "A value is trying to be set on a copy of a slice from a DataFrame.\n",
      "Try using .loc[row_indexer,col_indexer] = value instead\n",
      "\n",
      "See the caveats in the documentation: http://pandas.pydata.org/pandas-docs/stable/indexing.html#indexing-view-versus-copy\n"
     ]
    },
    {
     "name": "stdout",
     "output_type": "stream",
     "text": [
      "CPU times: user 29.8 s, sys: 4.37 s, total: 34.2 s\n",
      "Wall time: 37.9 s\n",
      "(445419, 7)\n",
      "(190894, 7)\n",
      "Index(['date', 'product_id', 'sum_return', 'bwa', 'day_vol', 'stock_vol',\n",
      "       'rl'],\n",
      "      dtype='object')\n"
     ]
    }
   ],
   "source": [
    "work_with_subset = False\n",
    "card_subset = 1000\n",
    "test_size=0.3\n",
    "feature_method = stock_day_cum_vol\n",
    "feature_method = cumStock_cumDay_cumReturn_rl\n",
    "\n",
    "if work_with_subset:\n",
    "    current_train = pd.concat([train, result], axis=1)\\\n",
    "        .reindex(np.random.permutation(train.index))\\\n",
    "        .iloc[:card_subset]\n",
    "    current_result = current_train.pop(\"TARGET\")\n",
    "else:\n",
    "    current_train = train\n",
    "    current_result = result\n",
    "\n",
    "def split(preprocessed_method, test_size):\n",
    "    preprocessed_data = preprocessed_method(current_train, current_result)\n",
    "    return (*train_test_split(preprocessed_data, current_result, test_size=test_size, random_state=42),\\\n",
    "            preprocessed_data)\n",
    "\n",
    "%time X_train, X_test, y_train, y_test, selected_model = split(feature_method, test_size)\n",
    "print(X_train.shape)\n",
    "print(X_test.shape)\n",
    "print(X_test.columns)"
   ]
  },
  {
   "cell_type": "code",
   "execution_count": 69,
   "metadata": {},
   "outputs": [
    {
     "name": "stdout",
     "output_type": "stream",
     "text": [
      "7\n"
     ]
    },
    {
     "data": {
      "text/html": [
       "<div>\n",
       "<style>\n",
       "    .dataframe thead tr:only-child th {\n",
       "        text-align: right;\n",
       "    }\n",
       "\n",
       "    .dataframe thead th {\n",
       "        text-align: left;\n",
       "    }\n",
       "\n",
       "    .dataframe tbody tr th {\n",
       "        vertical-align: top;\n",
       "    }\n",
       "</style>\n",
       "<table border=\"1\" class=\"dataframe\">\n",
       "  <thead>\n",
       "    <tr style=\"text-align: right;\">\n",
       "      <th></th>\n",
       "      <th>date</th>\n",
       "      <th>product_id</th>\n",
       "      <th>sum_return</th>\n",
       "      <th>bwa</th>\n",
       "      <th>day_vol</th>\n",
       "      <th>stock_vol</th>\n",
       "      <th>rl</th>\n",
       "    </tr>\n",
       "  </thead>\n",
       "  <tbody>\n",
       "    <tr>\n",
       "      <th>count</th>\n",
       "      <td>1000.000000</td>\n",
       "      <td>1000.000000</td>\n",
       "      <td>1000.000000</td>\n",
       "      <td>1000.000000</td>\n",
       "      <td>1000.000000</td>\n",
       "      <td>1000.000000</td>\n",
       "      <td>1000.000000</td>\n",
       "    </tr>\n",
       "    <tr>\n",
       "      <th>mean</th>\n",
       "      <td>1043.907000</td>\n",
       "      <td>160.936000</td>\n",
       "      <td>0.074000</td>\n",
       "      <td>0.157958</td>\n",
       "      <td>10.950299</td>\n",
       "      <td>10.014729</td>\n",
       "      <td>0.175007</td>\n",
       "    </tr>\n",
       "    <tr>\n",
       "      <th>std</th>\n",
       "      <td>615.523055</td>\n",
       "      <td>90.385028</td>\n",
       "      <td>6.974035</td>\n",
       "      <td>0.117113</td>\n",
       "      <td>7.607408</td>\n",
       "      <td>3.781908</td>\n",
       "      <td>0.136213</td>\n",
       "    </tr>\n",
       "    <tr>\n",
       "      <th>min</th>\n",
       "      <td>8.000000</td>\n",
       "      <td>1.000000</td>\n",
       "      <td>-19.000000</td>\n",
       "      <td>0.017598</td>\n",
       "      <td>1.517389</td>\n",
       "      <td>3.784427</td>\n",
       "      <td>0.027509</td>\n",
       "    </tr>\n",
       "    <tr>\n",
       "      <th>25%</th>\n",
       "      <td>503.500000</td>\n",
       "      <td>83.000000</td>\n",
       "      <td>-5.000000</td>\n",
       "      <td>0.094880</td>\n",
       "      <td>6.855126</td>\n",
       "      <td>7.476583</td>\n",
       "      <td>0.105305</td>\n",
       "    </tr>\n",
       "    <tr>\n",
       "      <th>50%</th>\n",
       "      <td>1012.000000</td>\n",
       "      <td>164.000000</td>\n",
       "      <td>0.000000</td>\n",
       "      <td>0.130198</td>\n",
       "      <td>9.224492</td>\n",
       "      <td>9.280029</td>\n",
       "      <td>0.142911</td>\n",
       "    </tr>\n",
       "    <tr>\n",
       "      <th>75%</th>\n",
       "      <td>1600.000000</td>\n",
       "      <td>237.000000</td>\n",
       "      <td>5.000000</td>\n",
       "      <td>0.185305</td>\n",
       "      <td>12.925667</td>\n",
       "      <td>11.908171</td>\n",
       "      <td>0.207730</td>\n",
       "    </tr>\n",
       "    <tr>\n",
       "      <th>max</th>\n",
       "      <td>2115.000000</td>\n",
       "      <td>318.000000</td>\n",
       "      <td>21.000000</td>\n",
       "      <td>1.977552</td>\n",
       "      <td>153.698451</td>\n",
       "      <td>26.919050</td>\n",
       "      <td>2.578290</td>\n",
       "    </tr>\n",
       "  </tbody>\n",
       "</table>\n",
       "</div>"
      ],
      "text/plain": [
       "              date   product_id   sum_return          bwa      day_vol  \\\n",
       "count  1000.000000  1000.000000  1000.000000  1000.000000  1000.000000   \n",
       "mean   1043.907000   160.936000     0.074000     0.157958    10.950299   \n",
       "std     615.523055    90.385028     6.974035     0.117113     7.607408   \n",
       "min       8.000000     1.000000   -19.000000     0.017598     1.517389   \n",
       "25%     503.500000    83.000000    -5.000000     0.094880     6.855126   \n",
       "50%    1012.000000   164.000000     0.000000     0.130198     9.224492   \n",
       "75%    1600.000000   237.000000     5.000000     0.185305    12.925667   \n",
       "max    2115.000000   318.000000    21.000000     1.977552   153.698451   \n",
       "\n",
       "         stock_vol           rl  \n",
       "count  1000.000000  1000.000000  \n",
       "mean     10.014729     0.175007  \n",
       "std       3.781908     0.136213  \n",
       "min       3.784427     0.027509  \n",
       "25%       7.476583     0.105305  \n",
       "50%       9.280029     0.142911  \n",
       "75%      11.908171     0.207730  \n",
       "max      26.919050     2.578290  "
      ]
     },
     "execution_count": 69,
     "metadata": {},
     "output_type": "execute_result"
    }
   ],
   "source": [
    "p(len(selected_model.columns))\n",
    "selected_model.describe()"
   ]
  },
  {
   "cell_type": "code",
   "execution_count": 114,
   "metadata": {},
   "outputs": [
    {
     "name": "stderr",
     "output_type": "stream",
     "text": [
      "/home/huguesvincent/.local/lib/python3.5/site-packages/ipykernel_launcher.py:81: SettingWithCopyWarning: \n",
      "A value is trying to be set on a copy of a slice from a DataFrame.\n",
      "Try using .loc[row_indexer,col_indexer] = value instead\n",
      "\n",
      "See the caveats in the documentation: http://pandas.pydata.org/pandas-docs/stable/indexing.html#indexing-view-versus-copy\n",
      "/home/huguesvincent/.local/lib/python3.5/site-packages/ipykernel_launcher.py:82: SettingWithCopyWarning: \n",
      "A value is trying to be set on a copy of a slice from a DataFrame.\n",
      "Try using .loc[row_indexer,col_indexer] = value instead\n",
      "\n",
      "See the caveats in the documentation: http://pandas.pydata.org/pandas-docs/stable/indexing.html#indexing-view-versus-copy\n"
     ]
    }
   ],
   "source": [
    "test_m = stock_day_cum_vol(test, None)"
   ]
  },
  {
   "cell_type": "markdown",
   "metadata": {},
   "source": [
    "# ---------------------------------------\n",
    "\n",
    "# Data exploration\n",
    "\n",
    "\n",
    "### Algorithm\n",
    "\n",
    "#### regression"
   ]
  },
  {
   "cell_type": "code",
   "execution_count": 90,
   "metadata": {},
   "outputs": [
    {
     "name": "stdout",
     "output_type": "stream",
     "text": [
      "CPU times: user 121 ms, sys: 101 ms, total: 222 ms\n",
      "Wall time: 346 ms\n",
      "best_params {}\n",
      "train:  25.065940661172704\n",
      "test:  29.816148705296204\n"
     ]
    }
   ],
   "source": [
    "pipe = Pipeline([(\"scaler\", StandardScaler()),(\"reg\", LinearRegression())])\n",
    "#param_grid = {\"reg__alpha\": [0.01, 0.1, 1, 10, 100]}\n",
    "param_grid = {}\n",
    "lr = GridSearchCV(pipe, param_grid=param_grid, cv=3, scoring=mape, n_jobs=3)\n",
    "%time lr.fit(X_train, y_train)\n",
    "print_results(lr)"
   ]
  },
  {
   "cell_type": "markdown",
   "metadata": {},
   "source": [
    "#### XgBoost"
   ]
  },
  {
   "cell_type": "code",
   "execution_count": 155,
   "metadata": {},
   "outputs": [
    {
     "name": "stdout",
     "output_type": "stream",
     "text": [
      "CPU times: user 4min 5s, sys: 297 ms, total: 4min 5s\n",
      "Wall time: 9min 8s\n",
      "best_params {}\n",
      "train:  21.237718177449697\n",
      "test:  22.636905391599633\n"
     ]
    }
   ],
   "source": [
    "pipe_xgb = Pipeline([(\"scaler\", StandardScaler()),(\"reg\", xgboost.XGBRegressor(n_estimators=500, learning_rate=0.08, subsample=0.75,\n",
    "                           colsample_bytree=1, max_depth=7))])\n",
    "param_grid = {\"reg__gamma\": [0.01, 0.1, 1, 10, 100]}\n",
    "param_grid = {}\n",
    "xgb = GridSearchCV(pipe_xgb, param_grid=param_grid, cv=3, scoring=mape, n_jobs=3)\n",
    "%time xgb.fit(X_train, y_train)\n",
    "print_results(xgb)"
   ]
  },
  {
   "cell_type": "markdown",
   "metadata": {},
   "source": [
    "#### KNN regressor"
   ]
  },
  {
   "cell_type": "code",
   "execution_count": 83,
   "metadata": {},
   "outputs": [
    {
     "name": "stdout",
     "output_type": "stream",
     "text": [
      "best_params {}\n",
      "train:  28.791023191\n",
      "test:  27.6743880089\n"
     ]
    }
   ],
   "source": [
    "pipe = Pipeline([(\"scaler\", StandardScaler()),(\"reg\", KNeighborsRegressor())])\n",
    "param_grid = {}\n",
    "knn = GridSearchCV(pipe, param_grid=param_grid, cv=3, scoring=mape, n_jobs=3)\n",
    "%time knn.fit(X_train, y_train)\n",
    "print_results(knn)"
   ]
  },
  {
   "cell_type": "markdown",
   "metadata": {},
   "source": [
    "#### AdaBoostRegressor"
   ]
  },
  {
   "cell_type": "code",
   "execution_count": null,
   "metadata": {},
   "outputs": [],
   "source": [
    "params = {'n_estimators': 300}\n",
    "pipe_adr = Pipeline([(\"adr\", AdaBoostRegressor(n_estimators=300))])\n",
    "param_grid = {\"adr__n_estimators\": [300]}\n",
    "param_grid = {}\n",
    "adr = GridSearchCV(AdaBoostRegressor(n_estimators=300), param_grid=param_grid, cv=3, scoring=mape, n_jobs=3)\n",
    "%time adr.fit(X_train, y_train)\n",
    "print_results(adr)"
   ]
  },
  {
   "cell_type": "code",
   "execution_count": 112,
   "metadata": {},
   "outputs": [
    {
     "name": "stdout",
     "output_type": "stream",
     "text": [
      "CPU times: user 3min 3s, sys: 183 ms, total: 3min 3s\n",
      "Wall time: 6min 53s\n",
      "39.445712810525166\n",
      "45.97352613230992\n"
     ]
    }
   ],
   "source": [
    "pipe_xgb2 = Pipeline([(\"scaler\", StandardScaler()),(\"reg\", xgboost.XGBRegressor(n_estimators=500, learning_rate=0.08, subsample=0.75,\n",
    "                           colsample_bytree=1, max_depth=7))])\n",
    "param_grid = {\"reg__gamma\": [0.01, 0.1, 1, 10, 100]}\n",
    "param_grid = {}\n",
    "xgb2 = GridSearchCV(pipe_xgb2, param_grid=param_grid, cv=3, scoring=mape, n_jobs=3)\n",
    "%time xgb2.fit(x, y)\n",
    "\n"
   ]
  },
  {
   "cell_type": "code",
   "execution_count": 113,
   "metadata": {},
   "outputs": [
    {
     "name": "stdout",
     "output_type": "stream",
     "text": [
      "4.424521909242941\n",
      "25.06739140110626\n"
     ]
    }
   ],
   "source": [
    "p(score_function(y, xgb2.predict(x)))\n",
    "p(score_function(y_t, xgb2.predict(x_t)))"
   ]
  },
  {
   "cell_type": "markdown",
   "metadata": {},
   "source": [
    "#### Gradient boosting regressor"
   ]
  },
  {
   "cell_type": "code",
   "execution_count": 52,
   "metadata": {},
   "outputs": [
    {
     "name": "stdout",
     "output_type": "stream",
     "text": [
      "best_params {}\n",
      "train:  27.7263265209\n",
      "test:  28.6138416011\n"
     ]
    }
   ],
   "source": [
    "params = {'n_estimators': 500, 'max_depth': 5, 'min_samples_split': 2,\n",
    "          'learning_rate': 0.01, 'loss': 'ls'}\n",
    "pipe = Pipeline([(\"gbr\", GradientBoostingRegressor(**params))])\n",
    "gbr = GridSearchCV(pipe, param_grid={}, cv=3, scoring=mape, n_jobs=3)\n",
    "%time gbr.fit(X_train, y_train)\n",
    "print_results(gbr)"
   ]
  },
  {
   "cell_type": "markdown",
   "metadata": {},
   "source": [
    "#### RandomForestRegressor"
   ]
  },
  {
   "cell_type": "code",
   "execution_count": 161,
   "metadata": {},
   "outputs": [
    {
     "name": "stdout",
     "output_type": "stream",
     "text": [
      "CPU times: user 29min 52s, sys: 5.42 s, total: 29min 58s\n",
      "Wall time: 8min 14s\n",
      "best_params {}\n",
      "train:  8.780406542935069\n",
      "test:  24.51862534068462\n"
     ]
    }
   ],
   "source": [
    "pipe_rfr = Pipeline([(\"scaler\", MinMaxScaler()),(\"rfr\", RandomForestRegressor(n_estimators=100,n_jobs=-1))])\n",
    "rfr = GridSearchCV(pipe_rfr, param_grid={}, cv=3, scoring=mape)\n",
    "%time rfr.fit(X_train, y_train)\n",
    "print_results(rfr)"
   ]
  },
  {
   "cell_type": "code",
   "execution_count": 162,
   "metadata": {},
   "outputs": [],
   "source": [
    "df_to_csv(rfr.predict(selected_model),\"rf\")"
   ]
  },
  {
   "cell_type": "markdown",
   "metadata": {},
   "source": [
    "#### SVR"
   ]
  },
  {
   "cell_type": "code",
   "execution_count": null,
   "metadata": {},
   "outputs": [],
   "source": [
    "pipe_svr = Pipeline([(\"scaler\", MinMaxScaler()),(\"svr\", SVR(kernel='rbf', cache_size=1000))])\n",
    "param_grid = {}\n",
    "param_grid = {\"svr__C\": [0.1], \"svr__C\": [1e1]}\n",
    "svr = GridSearchCV(pipe_svr, param_grid=param_grid, cv=3, scoring=mape, n_jobs=-1)\n",
    "%time svr.fit(X_train, y_train)\n",
    "print_results(svr)"
   ]
  },
  {
   "cell_type": "code",
   "execution_count": null,
   "metadata": {},
   "outputs": [],
   "source": [
    "df_to_csv(svr.predict(selected_model),\"svr\")"
   ]
  },
  {
   "cell_type": "markdown",
   "metadata": {},
   "source": [
    "#### Neural network"
   ]
  },
  {
   "cell_type": "code",
   "execution_count": 94,
   "metadata": {},
   "outputs": [
    {
     "name": "stdout",
     "output_type": "stream",
     "text": [
      "CPU times: user 15.3 s, sys: 11.7 s, total: 27 s\n",
      "Wall time: 6min 14s\n",
      "best_params {'mlp__hidden_layer_sizes': 50}\n",
      "train:  23.75009148400844\n",
      "test:  24.5817111687691\n"
     ]
    }
   ],
   "source": [
    "from sklearn.neural_network import MLPRegressor\n",
    "pipe_mlp = Pipeline([(\"scaler\", MinMaxScaler()),(\"mlp\", MLPRegressor())])\n",
    "param_grid = {}\n",
    "param_grid = {\"mlp__hidden_layer_sizes\":tuple([50]*25)}\n",
    "mlp = GridSearchCV(pipe_mlp, param_grid=param_grid, cv=3, scoring=mape, n_jobs=-1)\n",
    "%time mlp.fit(X_train, y_train)\n",
    "print_results(mlp)"
   ]
  },
  {
   "cell_type": "code",
   "execution_count": 95,
   "metadata": {},
   "outputs": [],
   "source": [
    "df_to_csv(mlp.predict(selected_model),\"mlp\")"
   ]
  },
  {
   "cell_type": "code",
   "execution_count": 77,
   "metadata": {},
   "outputs": [
    {
     "name": "stdout",
     "output_type": "stream",
     "text": [
      "CPU times: user 2.65 s, sys: 0 ns, total: 2.65 s\n",
      "Wall time: 2.64 s\n",
      "score train:  5721.967666392776\n",
      "score test:  5375.791265154776\n"
     ]
    }
   ],
   "source": [
    "from sklearn import datasets, linear_model\n",
    "from sklearn.model_selection import cross_val_score, KFold\n",
    "from keras.models import Sequential\n",
    "from sklearn.metrics import accuracy_score\n",
    "from keras.layers import Dense\n",
    "from keras.wrappers.scikit_learn import KerasRegressor\n",
    "import keras.backend as K\n",
    "seed = 1\n",
    "\n",
    "X = selected_model[:150]\n",
    "y = current_result[:150]\n",
    "def loss(y_true, y_pred):\n",
    "    return K.mean(np.abs((y_true - y_pred) / y_true))* 100\n",
    "def baseline_model():\n",
    "    model = Sequential()\n",
    "    model.add(Dense(10, input_dim=7, activation='relu'))\n",
    "    model.add(Dropout(0.5))\n",
    "    model.add(Dense(60, activation='relu'))\n",
    "    model.add(Dropout(0.5))\n",
    "    model.add(Dense(600, activation='relu'))\n",
    "    model.add(Dense(1))\n",
    "    model.compile(loss=loss, optimizer='sgd', metrics = ['accuracy'])\n",
    "    return model\n",
    "\n",
    "\n",
    "estimator = KerasRegressor(build_fn=baseline_model, nb_epoch=100, batch_size=100, verbose=False)\n",
    "kfold = KFold(n_splits=5, random_state=seed)\n",
    "results = cross_val_score(estimator, X, y, cv=kfold)\n",
    "\n",
    "%time estimator.fit(X_train, y_train)\n",
    "prediction = estimator.predict(X_train)\n",
    "p('score train: ', score_function(y_train, prediction))\n",
    "prediction = estimator.predict(X_test)\n",
    "p('score test: ', score_function(y_test, prediction))\n"
   ]
  },
  {
   "cell_type": "code",
   "execution_count": 42,
   "metadata": {},
   "outputs": [
    {
     "data": {
      "text/plain": [
       "array([1., 1., 1., ..., 1., 1., 1.], dtype=float32)"
      ]
     },
     "execution_count": 42,
     "metadata": {},
     "output_type": "execute_result"
    }
   ],
   "source": [
    "model.predict(X_train)[:,0]"
   ]
  },
  {
   "cell_type": "code",
   "execution_count": 25,
   "metadata": {},
   "outputs": [],
   "source": [
    "model.fit(x_train, y_train, epochs=5, batch_size=32)\n",
    "model.train_on_batch(x_batch, y_batch)\n",
    "loss_and_metrics = model.evaluate(x_test, y_test, batch_size=128)\n",
    "classes = model.predict(x_test, batch_size=128)\n"
   ]
  },
  {
   "cell_type": "markdown",
   "metadata": {},
   "source": [
    "# Miscellaneous"
   ]
  },
  {
   "cell_type": "code",
   "execution_count": 112,
   "metadata": {},
   "outputs": [
    {
     "data": {
      "text/plain": [
       "24.22418121352502"
      ]
     },
     "execution_count": 112,
     "metadata": {},
     "output_type": "execute_result"
    }
   ],
   "source": [
    "def best_weight_(data_set, nb_vol):\n",
    "    v = X_train[vol_names[-nb_vol:]].values\n",
    "    v_2 = a([[vol/y_train.iloc[i]**2 for vol in v[i]] for i in rl(v)])\n",
    "    return inv(v_2.T @ v) @ v_2.T @ y_train.values\n",
    "#weights = best_weight(selected_model, 40)\n",
    "score_function(current_result, np.average(current_train[vol_names[-40 +n :]], weights=best_weight[n:], axis=1))\n"
   ]
  }
 ],
 "metadata": {
  "kernelspec": {
   "display_name": "Python 3",
   "language": "python",
   "name": "python3"
  },
  "language_info": {
   "codemirror_mode": {
    "name": "ipython",
    "version": 3
   },
   "file_extension": ".py",
   "mimetype": "text/x-python",
   "name": "python",
   "nbconvert_exporter": "python",
   "pygments_lexer": "ipython3",
   "version": "3.5.2"
  }
 },
 "nbformat": 4,
 "nbformat_minor": 2
}
